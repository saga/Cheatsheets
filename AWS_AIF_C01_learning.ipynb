{
  "nbformat": 4,
  "nbformat_minor": 0,
  "metadata": {
    "colab": {
      "provenance": [],
      "toc_visible": true,
      "authorship_tag": "ABX9TyONUAlrE2GSSgRloTJ9VDEq",
      "include_colab_link": true
    },
    "kernelspec": {
      "name": "python3",
      "display_name": "Python 3"
    },
    "language_info": {
      "name": "python"
    }
  },
  "cells": [
    {
      "cell_type": "markdown",
      "metadata": {
        "id": "view-in-github",
        "colab_type": "text"
      },
      "source": [
        "<a href=\"https://colab.research.google.com/github/saga/Cheatsheets/blob/master/AWS_AIF_C01_learning.ipynb\" target=\"_parent\"><img src=\"https://colab.research.google.com/assets/colab-badge.svg\" alt=\"Open In Colab\"/></a>"
      ]
    },
    {
      "cell_type": "markdown",
      "source": [
        "# 相关链接"
      ],
      "metadata": {
        "id": "gll-zDzQz4ns"
      }
    },
    {
      "cell_type": "markdown",
      "source": [
        "https://docs.aws.amazon.com/sagemaker/latest/dg/first-time-user.html\n",
        "\n"
      ],
      "metadata": {
        "id": "uwAa5dvSzUHd"
      }
    },
    {
      "cell_type": "markdown",
      "source": [
        "xx"
      ],
      "metadata": {
        "id": "E68j56Tu0ATo"
      }
    },
    {
      "cell_type": "markdown",
      "source": [
        "# Machine learning基础\n"
      ],
      "metadata": {
        "id": "RVkk6zhizrq9"
      }
    },
    {
      "cell_type": "markdown",
      "source": [
        "xx"
      ],
      "metadata": {
        "id": "Ta1EMs7m0DPw"
      }
    },
    {
      "cell_type": "markdown",
      "source": [
        "# SageMaker"
      ],
      "metadata": {
        "id": "8Y2dTsZlzbns"
      }
    },
    {
      "cell_type": "markdown",
      "source": [
        "xx"
      ],
      "metadata": {
        "id": "Z309OwIb0Elz"
      }
    },
    {
      "cell_type": "markdown",
      "source": [
        "# Bedrock"
      ],
      "metadata": {
        "id": "yBa2EWq7zgNv"
      }
    },
    {
      "cell_type": "markdown",
      "source": [
        "xx"
      ],
      "metadata": {
        "id": "KcqMEE5P0FmD"
      }
    },
    {
      "cell_type": "markdown",
      "source": [
        "# Kendra"
      ],
      "metadata": {
        "id": "fTjsV3m1zifb"
      }
    },
    {
      "cell_type": "markdown",
      "source": [
        "xx"
      ],
      "metadata": {
        "id": "dq8Aqc2v0GXz"
      }
    },
    {
      "cell_type": "markdown",
      "source": [
        "# Transcribe"
      ],
      "metadata": {
        "id": "THmi3XWaziiF"
      }
    },
    {
      "cell_type": "markdown",
      "source": [
        "xx"
      ],
      "metadata": {
        "id": "WcBkstqt0HPU"
      }
    }
  ]
}